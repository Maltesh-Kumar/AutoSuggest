{
 "cells": [
  {
   "cell_type": "markdown",
   "metadata": {},
   "source": [
    "## Pre-Trained Model using for output"
   ]
  },
  {
   "cell_type": "code",
   "execution_count": 26,
   "metadata": {},
   "outputs": [],
   "source": [
    "import pickle\n",
    "from keras.preprocessing.sequence import pad_sequences\n",
    "from keras.preprocessing.text import Tokenizer\n",
    "tokenizer = pickle.load(open('auto_suggest.pkl', 'rb'))"
   ]
  },
  {
   "cell_type": "code",
   "execution_count": 4,
   "metadata": {},
   "outputs": [],
   "source": [
    "from tensorflow import keras\n",
    "model = keras.models.load_model('auto_suggest_model.h5', compile=False)"
   ]
  },
  {
   "cell_type": "code",
   "execution_count": 5,
   "metadata": {},
   "outputs": [],
   "source": [
    "def generate_seq(model, tokenizer, seq_length, seed_text, n_words):\n",
    "    result = list()\n",
    "    in_text = seed_text\n",
    "    # generate a fixed number of words\n",
    "    # encode the text as integer\n",
    "    encoded = tokenizer.texts_to_sequences([in_text])[0]\n",
    "    # truncate sequences to a fixed length\n",
    "    encoded = pad_sequences([encoded], maxlen=seq_length, truncating='pre')\n",
    "    # predict probabilities for each word\n",
    "    # yhat = self.model.predict_classes(encoded, verbose=0)\n",
    "    predicted_l = list(tuple(enumerate(model.predict(encoded)[0])))\n",
    "    top_3 = sorted(predicted_l, key=lambda x: x[1], reverse=True)[:3]\n",
    "    #print(top_3)\n",
    "    # map predicted word index to word\n",
    "    predicted_words = []\n",
    "    for i, word in enumerate(top_3):\n",
    "        for w in list(tokenizer.word_index.items()):\n",
    "            if w[1] == word[0]:\n",
    "                predicted_words.append({'word': w[0], 'probability': word[1]})\n",
    "    return predicted_words"
   ]
  },
  {
   "cell_type": "code",
   "execution_count": 23,
   "metadata": {},
   "outputs": [],
   "source": [
    "sentence = \"I had\""
   ]
  },
  {
   "cell_type": "code",
   "execution_count": 24,
   "metadata": {},
   "outputs": [
    {
     "name": "stdout",
     "output_type": "stream",
     "text": [
      "[{'word': 'to', 'probability': 0.59207433}, {'word': 'just', 'probability': 0.40126604}, {'word': 'expert', 'probability': 0.0034271046}]\n"
     ]
    }
   ],
   "source": [
    "generated = generate_seq(model, tokenizer, 72, sentence, 3) \n",
    "print(generated)"
   ]
  },
  {
   "cell_type": "code",
   "execution_count": 25,
   "metadata": {},
   "outputs": [
    {
     "name": "stdout",
     "output_type": "stream",
     "text": [
      "{'word': 'to', 'probability': 0.59207433}\n",
      "{'word': 'just', 'probability': 0.40126604}\n",
      "{'word': 'expert', 'probability': 0.0034271046}\n"
     ]
    }
   ],
   "source": [
    "for i in generated:\n",
    "    print(i)"
   ]
  },
  {
   "cell_type": "code",
   "execution_count": null,
   "metadata": {},
   "outputs": [],
   "source": []
  },
  {
   "cell_type": "code",
   "execution_count": null,
   "metadata": {},
   "outputs": [],
   "source": []
  }
 ],
 "metadata": {
  "kernelspec": {
   "display_name": "Python 3",
   "language": "python",
   "name": "python3"
  },
  "language_info": {
   "codemirror_mode": {
    "name": "ipython",
    "version": 3
   },
   "file_extension": ".py",
   "mimetype": "text/x-python",
   "name": "python",
   "nbconvert_exporter": "python",
   "pygments_lexer": "ipython3",
   "version": "3.7.9"
  }
 },
 "nbformat": 4,
 "nbformat_minor": 4
}
